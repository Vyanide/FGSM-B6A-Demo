{
  "cells": [
    {
      "cell_type": "code",
      "execution_count": 28,
      "metadata": {
        "colab": {
          "base_uri": "https://localhost:8080/"
        },
        "id": "rIoqAFc2qdzg",
        "outputId": "27453dd0-53b3-42d4-c3a7-9eec6ab56578"
      },
      "outputs": [
        {
          "name": "stdout",
          "output_type": "stream",
          "text": [
            "Drive already mounted at /content/drive/; to attempt to forcibly remount, call drive.mount(\"/content/drive/\", force_remount=True).\n",
            "/content/drive/My Drive\n"
          ]
        }
      ],
      "source": [
        "import numpy as np\n",
        "import matplotlib\n",
        "import matplotlib.pyplot as plt\n",
        "from PIL import Image\n",
        "import cv2\n",
        "\n",
        "import keras\n",
        "import tensorflow as tf\n",
        "from keras.layers import Input, Dense, Reshape\n",
        "from keras.layers import BatchNormalization, Activation, ZeroPadding2D\n",
        "from keras.models import Sequential, Model\n",
        "from keras.optimizers import Adam\n",
        "\n",
        "# Link to Google Drive in order to store and use certain files\n",
        "from google.colab import drive\n",
        "drive.mount('/content/drive/')\n",
        "%cd /content/drive/My Drive/"
      ]
    },
    {
      "cell_type": "markdown",
      "metadata": {
        "id": "cFchQRJGZECs"
      },
      "source": [
        "# Testing out the target model"
      ]
    },
    {
      "cell_type": "code",
      "execution_count": null,
      "metadata": {
        "id": "RzETmuxw8f0-"
      },
      "outputs": [],
      "source": [
        "labels = ['Created with AI', 'Not Created with AI']\n",
        "\n",
        "# Included in the program\n",
        "def preprocess_image(image, img_size=256):\n",
        "    img = cv2.resize(image, (img_size, img_size))\n",
        "    img = img / 255.0\n",
        "    img = np.expand_dims(img, axis=0)\n",
        "    return img\n",
        "\n",
        "# Load image, feel free to uncomment these (and comment the normal.png) to test the AI model.\n",
        "\n",
        "# AI Generated\n",
        "# image_name = \"FGSM_Data/test1.png\"\n",
        "\n",
        "# AI Generated\n",
        "# image_name = \"FGSM_Data/test2.png\"\n",
        "\n",
        "# Not AI Generated\n",
        "# image_name = \"FGSM_Data/test3.png\"\n",
        "\n",
        "# Not AI Generated\n",
        "# image_name = \"FGSM_Data/test4.png\"\n",
        "\n",
        "# Our image to turn into adversarial, you can also use other 256x256 images.\n",
        "image_name = \"FGSM_Data/normal.png\"\n",
        "\n",
        "original_image = np.array(Image.open(image_name).convert('RGB'))\n",
        "model = keras.models.load_model(\"FGSM_Data/ai_prediction_model.h5\")\n",
        "model.trainable = False\n",
        "\n",
        "# Preprocess image and predict the result\n",
        "image = preprocess_image(original_image)\n",
        "results = model.predict(image)\n",
        "\n",
        "# Visualize Image and result\n",
        "plt.imshow(original_image)\n",
        "plt.title(\"Prediction Result: \" + labels[np.argmax(results)] + \"\\n\" + str(results[0][0]) + \" vs \" + str(results[0][1]))"
      ]
    },
    {
      "cell_type": "markdown",
      "metadata": {
        "id": "ClZGS-yci4tF"
      },
      "source": [
        "# Create our own adversarial image"
      ]
    },
    {
      "cell_type": "code",
      "execution_count": 30,
      "metadata": {
        "id": "p27IkG8VAV0z"
      },
      "outputs": [],
      "source": [
        "# Explaination on how the model works\n",
        "# The model will first convert the image into BGR format,\n",
        "# and then it will normalize the images to [0, 1] range\n",
        "\n",
        "# Converts image from RGB to BGR, then normalize to [0, 1] range, and converts it to a tensorflow object\n",
        "def preprocess_image(image):\n",
        "    img = cv2.cvtColor(image, cv2.COLOR_RGB2BGR)\n",
        "    img = img / 255.0\n",
        "    img = tf.cast(img, tf.float32)\n",
        "    img = tf.image.resize(img, (256, 256))\n",
        "    img = img[None, ...]\n",
        "    return img\n",
        "\n",
        "# FGSM\n",
        "def fgsm(input_image, input_label):\n",
        "    # One-hot label, aka 1 and 0s only\n",
        "    loss_object = tf.keras.losses.CategoricalCrossentropy()\n",
        "    with tf.GradientTape() as tape:\n",
        "        # Record the gradient\n",
        "        tape.watch(input_image)\n",
        "        # Make a prediction\n",
        "        prediction = model(input_image)\n",
        "        # Calculate the loss\n",
        "        loss = loss_object(input_label, prediction)\n",
        "\n",
        "    # Get the gradients of the loss w.r.t to the input image.\n",
        "    gradient = tape.gradient(loss, input_image)\n",
        "    # Get the sign of the gradients to create the perturbation\n",
        "    signed_grad = tf.sign(gradient)\n",
        "    return signed_grad\n",
        "\n",
        "# Load original image, model\n",
        "original_image = np.array(Image.open(\"FGSM_Data/normal.png\").convert('RGB'))\n",
        "adv_image = np.array(Image.open(\"FGSM_Data/normal.png\").convert('RGB'))\n",
        "model = keras.models.load_model(\"FGSM_Data/ai_prediction_model.h5\")\n",
        "\n",
        "# Create a tensorflow label, where we want the output to NOT be 'Created with AI'\n",
        "y_adx = tf.cast(np.array([[1,0]]), tf.float32)\n",
        "adv_image = preprocess_image(adv_image)\n",
        "\n",
        "# Slowly add the perturbations for 3 iterations (gradient)\n",
        "epsilon = 0.005\n",
        "for i in range(3):\n",
        "    perturbations = fgsm(adv_image, y_adx)\n",
        "    adv_image += epsilon * perturbations\n",
        "\n",
        "# Convert our image back to RGB, into [0-255] range and save the image\n",
        "adv_image = adv_image.numpy()\n",
        "adv_image = cv2.normalize(adv_image, None, alpha = 0, beta = 255, norm_type = cv2.NORM_MINMAX, dtype = cv2.CV_8U)\n",
        "adv_image = adv_image.squeeze(axis=0)\n",
        "adv_image = cv2.cvtColor(adv_image, cv2.COLOR_BGR2RGB)\n",
        "im = Image.fromarray(adv_image)\n",
        "im.save(\"FGSM_Data/adversarial.png\")"
      ]
    },
    {
      "cell_type": "markdown",
      "metadata": {
        "id": "-o7Pha8gPms_"
      },
      "source": [
        "# Visualize our adversarial image"
      ]
    },
    {
      "cell_type": "code",
      "execution_count": null,
      "metadata": {
        "id": "HHmHj9F2J-QD"
      },
      "outputs": [],
      "source": [
        "labels = ['Created with AI', 'Not Created with AI']\n",
        "\n",
        "original_image = np.array(Image.open(\"FGSM_Data/normal.png\").convert('RGB'))\n",
        "adv_image = np.array(Image.open(\"FGSM_Data/adversarial.png\").convert('RGB'))\n",
        "model = keras.models.load_model(\"FGSM_Data/ai_prediction_model.h5\")\n",
        "\n",
        "# Predict result\n",
        "original_image_preprocessed = preprocess_image(original_image)\n",
        "original_image_prediction = model.predict(original_image_preprocessed)\n",
        "adv_image_preprocessed = preprocess_image(adv_image)\n",
        "adv_image_prediction = model.predict(adv_image_preprocessed)\n",
        "\n",
        "# Plot the first image\n",
        "fig = plt.figure(figsize=(10, 7))\n",
        "fig.add_subplot(1, 2, 1)\n",
        "plt.imshow(original_image)\n",
        "plt.title(\"Original Image\"+ \"\\n\" + \"Prediction Result: \" + labels[np.argmax(original_image_prediction)] + \"\\n\" + str(original_image_prediction[0][0]) + \" vs \" + str(original_image_prediction[0][1]))\n",
        "\n",
        "# Plot the second image\n",
        "fig.add_subplot(1, 2, 2)\n",
        "plt.imshow(adv_image)\n",
        "plt.title(\"Adversarial Image\" + \"\\n\" + \"Prediction Result: \" + labels[np.argmax(adv_image_prediction)] + \"\\n\" + str(adv_image_prediction[0][0]) + \" vs \" + str(adv_image_prediction[0][1]))"
      ]
    }
  ],
  "metadata": {
    "colab": {
      "provenance": []
    },
    "kernelspec": {
      "display_name": "Python 3",
      "name": "python3"
    },
    "language_info": {
      "name": "python"
    }
  },
  "nbformat": 4,
  "nbformat_minor": 0
}
